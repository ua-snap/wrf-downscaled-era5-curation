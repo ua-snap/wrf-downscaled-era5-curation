{
 "cells": [
  {
   "cell_type": "code",
   "execution_count": null,
   "id": "2bbc6cc2-385e-4988-bf90-6caaf139472c",
   "metadata": {},
   "outputs": [],
   "source": [
    "from pathlib import Path\n",
    "import era5plots\n",
    "import xarray as xr\n",
    "import glob"
   ]
  },
  {
   "cell_type": "code",
   "execution_count": null,
   "id": "532d9386-624d-4dd5-8918-34d9c2f17b7b",
   "metadata": {},
   "outputs": [],
   "source": [
    "fps = sorted(list(Path(\"/beegfs/CMIP6/wrf_era5/04km/1960/\").glob('*.nc')))\n",
    "fps[182]\n",
    "# there should be at least some convective precip in here (July)"
   ]
  },
  {
   "cell_type": "code",
   "execution_count": null,
   "id": "d1e966b5-54ca-4122-927d-828786bf939b",
   "metadata": {},
   "outputs": [],
   "source": [
    "with xr.open_mfdataset(fps[182:202]) as ds:\n",
    "    ds"
   ]
  },
  {
   "cell_type": "code",
   "execution_count": null,
   "id": "5da38177-9015-41ba-999f-e288d6fef943",
   "metadata": {},
   "outputs": [],
   "source": [
    "ds.rainc.resample(Time=\"20d\").max().plot()"
   ]
  },
  {
   "cell_type": "code",
   "execution_count": null,
   "id": "073f6ac5-6ae5-4781-8fc3-998286c7b891",
   "metadata": {},
   "outputs": [],
   "source": [
    "ds.rainnc.resample(Time=\"20d\").max().plot()"
   ]
  },
  {
   "cell_type": "code",
   "execution_count": null,
   "id": "99a8a627-bb4b-4e79-98f4-37b2323e1b78",
   "metadata": {},
   "outputs": [],
   "source": [
    "ds.rainc.min()"
   ]
  },
  {
   "cell_type": "code",
   "execution_count": null,
   "id": "2788ba0b-6961-4b13-ae7b-5c6e4cdbff0e",
   "metadata": {},
   "outputs": [],
   "source": [
    "ds.rainc.max()"
   ]
  },
  {
   "cell_type": "code",
   "execution_count": null,
   "id": "f11b85d4-f824-459a-88d0-9f8aa80e6c4f",
   "metadata": {},
   "outputs": [],
   "source": []
  }
 ],
 "metadata": {
  "kernelspec": {
   "display_name": "Python 3 (ipykernel)",
   "language": "python",
   "name": "python3"
  },
  "language_info": {
   "codemirror_mode": {
    "name": "ipython",
    "version": 3
   },
   "file_extension": ".py",
   "mimetype": "text/x-python",
   "name": "python",
   "nbconvert_exporter": "python",
   "pygments_lexer": "ipython3",
   "version": "3.11.6"
  }
 },
 "nbformat": 4,
 "nbformat_minor": 5
}
