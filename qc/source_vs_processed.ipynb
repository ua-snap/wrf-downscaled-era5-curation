{
 "cells": [
  {
   "cell_type": "code",
   "execution_count": null,
   "id": "8e41bfe1-cd2f-4431-b47a-bb0e6e264384",
   "metadata": {},
   "outputs": [],
   "source": []
  },
  {
   "cell_type": "code",
   "execution_count": 1,
   "id": "ebfd0362-b6f0-4046-bfe8-333c4cf253a3",
   "metadata": {},
   "outputs": [],
   "source": [
    "import xarray as xr\n",
    "import numpy as np\n",
    "from pathlib import Path\n",
    "import matplotlib.pyplot as plt\n",
    "from pyproj import Transformer\n",
    "\n",
    "import warnings\n",
    "warnings.simplefilter(action='ignore', category=FutureWarning)\n",
    "\n",
    "YEAR = 1991 # picked to avoid any leap year stuff possibly confounding the analysis\n",
    "\n",
    "SOURCE_DIR = Path(f\"/beegfs/CMIP6/wrf_era5/04km/{YEAR}\")\n",
    "# change this to wherever your outputs are\n",
    "PROCESSED_FILE = Path(f\"/beegfs/CMIP6/cparr4/daily_downscaled_era5_for_rasdaman/t2_mean/t2_mean_{YEAR}_daily_era5_4km_3338.nc\")\n",
    "SELECTED_LOCATION = \"Cordova\"\n",
    "\n",
    "ak_locations = {\n",
    "    \"Anchorage\": (61.2181, -149.9003),\n",
    "    \"Fairbanks\": (64.8378, -147.7164),\n",
    "    \"Utqiaġvik\": (71.2906, -156.7886),\n",
    "    \"Bethel\": (60.7922, -161.7558),\n",
    "    \"Cordova\": (60.5438, -145.7573),\n",
    "    \"Nome\": (64.5011, -165.4064),\n",
    "    \"Seward\": (60.1044, -149.4458),\n",
    "}"
   ]
  },
  {
   "cell_type": "code",
   "execution_count": 2,
   "id": "588b8531-33f0-402e-95df-95b4383425a0",
   "metadata": {},
   "outputs": [
    {
     "data": {
      "text/plain": [
       "{'Anchorage': (219349.5792197109, 1255301.5397254487),\n",
       " 'Fairbanks': (297698.8056800067, 1667062.2461945596),\n",
       " 'Utqiaġvik': (-102347.93849687307, 2368027.864846956),\n",
       " 'Bethel': (-419835.81379570364, 1225436.359509806),\n",
       " 'Cordova': (449500.6129700059, 1201041.5176492375),\n",
       " 'Nome': (-544971.6990630961, 1662325.0658296624),\n",
       " 'Seward': (252166.09829785314, 1132616.5920323776)}"
      ]
     },
     "execution_count": 2,
     "metadata": {},
     "output_type": "execute_result"
    }
   ],
   "source": [
    "def find_nearest_grid_indices(ds, locations):\n",
    "    \"\"\"Find the nearest grid indices for a set of lat/lon locations.\"\"\"\n",
    "    ak_grid_indices = {}\n",
    "    lats = ds['XLAT'].values\n",
    "    lons = ds['XLONG'].values\n",
    "    for name, (lat, lon) in locations.items():\n",
    "        # Compute squared distance for all grid points\n",
    "        dist2 = (lats - lat)**2 + (lons - lon)**2\n",
    "        idx = np.unravel_index(np.argmin(dist2), lats.shape)\n",
    "        ak_grid_indices[name] = {'south_north': idx[0], 'west_east': idx[1]}\n",
    "    return ak_grid_indices\n",
    "\n",
    "def project_locations(locations_lat_lon):\n",
    "    \"\"\"Project lat/lon coordinates to EPSG:3338.\"\"\"\n",
    "    to_ak_albers = Transformer.from_crs(\"EPSG:4326\", \"EPSG:3338\", always_xy=True)\n",
    "    projected_locs = {name: to_ak_albers.transform(lon, lat) for name, (lat, lon) in locations_lat_lon.items()}\n",
    "    return projected_locs\n",
    "\n",
    "ak_locations_3338 = project_locations(ak_locations)\n",
    "ak_locations_3338"
   ]
  },
  {
   "cell_type": "code",
   "execution_count": 3,
   "id": "dbf7bff6-8fa4-4a17-b3da-6035795f0957",
   "metadata": {},
   "outputs": [],
   "source": [
    "source_files = sorted(SOURCE_DIR.glob(f\"era5_wrf_dscale_4km_{YEAR}-*.nc\"))\n",
    "ds_processed = xr.open_dataset(PROCESSED_FILE)"
   ]
  },
  {
   "cell_type": "code",
   "execution_count": 4,
   "id": "09fd0249-81bb-463f-8fbd-b65dbcf223d0",
   "metadata": {},
   "outputs": [
    {
     "name": "stdout",
     "output_type": "stream",
     "text": [
      "Finding nearest grid cell in the first source file...\n",
      "{'south_north': 135, 'west_east': 299}\n"
     ]
    }
   ],
   "source": [
    "print(\"Finding nearest grid cell in the first source file...\")\n",
    "with xr.open_dataset(source_files[0]) as sample_ds:\n",
    "    grid_indices = find_nearest_grid_indices(sample_ds, ak_locations)\n",
    "\n",
    "source_loc_indices = grid_indices[SELECTED_LOCATION]\n",
    "print(source_loc_indices)"
   ]
  },
  {
   "cell_type": "code",
   "execution_count": 5,
   "id": "3461c6c0-fd71-4e8a-b201-4e92e571a6ee",
   "metadata": {},
   "outputs": [
    {
     "name": "stdout",
     "output_type": "stream",
     "text": [
      "60.53725814819336 -145.77389526367188\n"
     ]
    }
   ],
   "source": [
    "# Extract the *exact* native lat / lon at that cell\n",
    "exact_lat = float(sample_ds['XLAT']\n",
    "                  .isel(south_north=source_loc_indices['south_north'],\n",
    "                       west_east=source_loc_indices['west_east']))\n",
    "exact_lon = float(sample_ds['XLONG']\n",
    "                  .isel(south_north=source_loc_indices['south_north'],\n",
    "                       west_east=source_loc_indices['west_east']))\n",
    "print(exact_lat, exact_lon)"
   ]
  },
  {
   "cell_type": "code",
   "execution_count": 6,
   "id": "32bb798f-26e4-4eb1-9e25-7f06b7625510",
   "metadata": {},
   "outputs": [
    {
     "name": "stdout",
     "output_type": "stream",
     "text": [
      "(60.5438, -145.7573)\n"
     ]
    }
   ],
   "source": [
    "# this is different than our initial input lat-lon!\n",
    "print(ak_locations[SELECTED_LOCATION])"
   ]
  },
  {
   "cell_type": "code",
   "execution_count": 7,
   "id": "d3bb2608-1496-4598-a4d5-fc0d14523698",
   "metadata": {},
   "outputs": [
    {
     "name": "stdout",
     "output_type": "stream",
     "text": [
      "448690.657344742 1200203.2324212624\n",
      "(449500.6129700059, 1201041.5176492375)\n"
     ]
    }
   ],
   "source": [
    "to_ak_albers = Transformer.from_crs(\"EPSG:4326\", \"EPSG:3338\", always_xy=True)\n",
    "x_exact_3338, y_exact_3338 = to_ak_albers.transform(exact_lon, exact_lat)\n",
    "print(x_exact_3338, y_exact_3338)\n",
    "print(ak_locations_3338[SELECTED_LOCATION])"
   ]
  },
  {
   "cell_type": "code",
   "execution_count": 8,
   "id": "361cda7c-4c0b-401b-9503-de4afd4f2c23",
   "metadata": {},
   "outputs": [
    {
     "name": "stdout",
     "output_type": "stream",
     "text": [
      "1.2 km\n"
     ]
    }
   ],
   "source": [
    "def distance_m_3338(p1, p2):\n",
    "    \"\"\"Euclidean distance between two EPSG:3338 points, in metres.\n",
    "\n",
    "    Parameters\n",
    "    ----------\n",
    "    p1, p2\n",
    "        Two-element sequences of *(x, y)* in metres (Alaska Albers).\n",
    "\n",
    "    Returns\n",
    "    -------\n",
    "    float\n",
    "        Distance in metres.\n",
    "    \"\"\"\n",
    "    from math import hypot\n",
    "    dx = p2[0] - p1[0]\n",
    "    dy = p2[1] - p1[1]\n",
    "    return hypot(dx, dy) \n",
    "\n",
    "dist_m  = distance_m_3338(ak_locations_3338[SELECTED_LOCATION], (x_exact_3338, y_exact_3338))\n",
    "dist_km = dist_m / 1000\n",
    "print(f\"{dist_km:.1f} km\")"
   ]
  },
  {
   "cell_type": "code",
   "execution_count": 9,
   "id": "f4dadd37-72bf-4dae-a55f-0784f03911be",
   "metadata": {},
   "outputs": [
    {
     "name": "stdout",
     "output_type": "stream",
     "text": [
      "Processing comparison for location: Cordova\n",
      "Processing 365 source files in a loop for multiple offsets...\n",
      "Combining daily means for each offset...\n",
      "Extracting data from processed file...\n",
      "\n",
      "Offset summary (mean absolute delta °C):\n",
      "  offset (-2, -2): 1.24\n",
      "  offset (-2, -1): 0.86\n",
      "  offset (-2, 0): 1.52\n",
      "  offset (-2, 1): 1.63\n",
      "  offset (-2, 2): 0.96\n",
      "  offset (-1, -2): 1.06\n",
      "  offset (-1, -1): 1.33\n",
      "  offset (-1, 0): 1.65\n",
      "  offset (-1, 1): 1.69\n",
      "  offset (-1, 2): 1.65\n",
      "  offset (0, -2): 0.00\n",
      "  offset (0, -1): 1.81\n",
      "  offset (0, 0): 1.49\n",
      "  offset (0, 1): 1.66\n",
      "  offset (0, 2): 1.94\n",
      "  offset (1, -2): 0.58\n",
      "  offset (1, -1): 1.89\n",
      "  offset (1, 0): 1.72\n",
      "  offset (1, 1): 1.41\n",
      "  offset (1, 2): 1.40\n",
      "  offset (2, -2): 1.34\n",
      "  offset (2, -1): 1.22\n",
      "  offset (2, 0): 1.47\n",
      "  offset (2, 1): 1.88\n",
      "  offset (2, 2): 2.33\n",
      "\n",
      "Best offset: (0, -2) with mean abs delta 0.00 °C\n",
      "Generating plot for best offset...\n",
      "Plot saved to qc_comparison_Cordova_1991.png\n",
      "Mean Difference: 0.00 °C\n",
      "Standard Deviation: 0.00 °C\n",
      "Max Difference: 0.00 °C\n",
      "Min Difference: -0.00 °C\n"
     ]
    }
   ],
   "source": [
    "print(f\"Processing comparison for location: {SELECTED_LOCATION}\")\n",
    "# brute force search the surrounding grid cells up to 2x2 offset to find best match\n",
    "# it should be in there somewhere!\n",
    "\n",
    "daily_means_dict = { (di,dj): [] for di in [-2,-1,0,1,2] for dj in [-2,-1,0,1,2] }\n",
    "print(f\"Processing {len(source_files)} source files in a loop for multiple offsets...\")\n",
    "for f in source_files:\n",
    "    # could use mf data open here, but this is fast enough\n",
    "    with xr.open_dataset(f) as ds:\n",
    "        for di,dj in daily_means_dict.keys():\n",
    "            wn = source_loc_indices['west_east'] + di\n",
    "            sn = source_loc_indices['south_north'] + dj\n",
    "            \n",
    "            wn = max(0, min(wn, ds.dims['west_east']-1))\n",
    "            sn = max(0, min(sn, ds.dims['south_north']-1))\n",
    "            \n",
    "            source_raw = ds['T2'].isel(west_east=wn, south_north=sn)\n",
    "            daily_mean = source_raw.resample(Time=\"1D\").mean() - 273.15\n",
    "            daily_means_dict[(di,dj)].append(daily_mean)\n",
    "            \n",
    "print(\"Combining daily means for each offset...\")\n",
    "offset_series = {}\n",
    "for key, lst in daily_means_dict.items():\n",
    "    series = xr.concat(lst, dim=\"Time\").rename({'Time':'time'}).rename(\"t2_mean_source\")\n",
    "    offset_series[key] = series\n",
    "\n",
    "print(\"Extracting data from processed file...\")\n",
    "processed_loc_coords = ak_locations_3338[SELECTED_LOCATION]\n",
    "processed_daily_mean = ds_processed[\"t2_mean\"].sel(\n",
    "    ###\n",
    "    # swap the commented out parts here to see the offset location with the min delta shift\n",
    "    x=x_exact_3338,\n",
    "    y=y_exact_3338,\n",
    "    #x=processed_loc_coords[0],\n",
    "    #y=processed_loc_coords[1],\n",
    "    ###\n",
    "    method=\"nearest\"\n",
    ")\n",
    "\n",
    "print(\"\\nOffset summary (mean absolute delta °C):\")\n",
    "delta_dict = {}\n",
    "for key, src_series in offset_series.items():\n",
    "    aligned_src, aligned_proc = xr.align(src_series, processed_daily_mean, join=\"inner\")\n",
    "    d = aligned_proc - aligned_src\n",
    "    delta_dict[key] = float(np.abs(d).mean())\n",
    "    print(f\"  offset {key}: {delta_dict[key]:.2f}\")\n",
    "\n",
    "# pick best offset (minimum mean abs delta)\n",
    "best_offset = min(delta_dict, key=delta_dict.get)\n",
    "print(f\"\\nBest offset: {best_offset} with mean abs delta {delta_dict[best_offset]:.2f} °C\")\n",
    "\n",
    "# Use best offset for detailed plotting\n",
    "aligned_source = offset_series[best_offset]\n",
    "aligned_source, aligned_processed = xr.align(aligned_source, processed_daily_mean, join=\"inner\")\n",
    "delta = aligned_processed - aligned_source\n",
    "delta = delta.rename(\"t2_mean_delta\")\n",
    "\n",
    "print(\"Generating plot for best offset...\")\n",
    "\n",
    "aligned_source = aligned_source.reset_coords(drop=True)\n",
    "aligned_processed = aligned_processed.reset_coords(drop=True)\n",
    "delta = delta.reset_coords(drop=True)\n",
    "\n",
    "fig, axes = plt.subplots(nrows=3, ncols=1, figsize=(12, 10), sharex=True)\n",
    "\n",
    "aligned_source.plot(ax=axes[0], label='Source (Daily Mean)')\n",
    "axes[0].set_title(f'Source Daily Mean Temperature at {SELECTED_LOCATION}')\n",
    "axes[0].set_ylabel('Temperature (°C)')\n",
    "axes[0].grid(True)\n",
    "\n",
    "aligned_processed.plot(ax=axes[1], color='orange', label='Processed (Daily Mean)')\n",
    "axes[1].set_title(f'Processed Daily Mean Temperature at {SELECTED_LOCATION}')\n",
    "axes[1].set_ylabel('Temperature (°C)')\n",
    "axes[1].grid(True)\n",
    "\n",
    "delta.plot(ax=axes[2], color='green', label='Delta (Processed - Source)')\n",
    "axes[2].axhline(0, color='red', linestyle='--')\n",
    "delta_min = float(delta.min())\n",
    "delta_max = float(delta.max())\n",
    "axes[2].set_ylim(delta_min, delta_max)\n",
    "\n",
    "axes[2].set_title('Difference (Processed - Source)')\n",
    "axes[2].set_ylabel('Temperature Delta (°C)')\n",
    "axes[2].grid(True)\n",
    "\n",
    "fig.suptitle(f'Temperature Comparison for {SELECTED_LOCATION} - {YEAR}', fontsize=16)\n",
    "plt.tight_layout(rect=[0, 0.03, 1, 0.95])\n",
    "\n",
    "output_fig_path = f\"qc_comparison_{SELECTED_LOCATION}_{YEAR}.png\"\n",
    "plt.savefig(output_fig_path)\n",
    "print(f\"Plot saved to {output_fig_path}\")\n",
    "plt.close()\n",
    "\n",
    "print(f\"Mean Difference: {delta.mean().item():.2f} °C\")\n",
    "print(f\"Max Difference: {delta.max().item():.2f} °C\")\n",
    "print(f\"Min Difference: {delta.min().item():.2f} °C\")"
   ]
  },
  {
   "cell_type": "code",
   "execution_count": null,
   "id": "84277cd3-92d1-48f3-8a5a-d800fd4c5847",
   "metadata": {},
   "outputs": [],
   "source": []
  }
 ],
 "metadata": {
  "kernelspec": {
   "display_name": "Python 3 (ipykernel)",
   "language": "python",
   "name": "python3"
  },
  "language_info": {
   "codemirror_mode": {
    "name": "ipython",
    "version": 3
   },
   "file_extension": ".py",
   "mimetype": "text/x-python",
   "name": "python",
   "nbconvert_exporter": "python",
   "pygments_lexer": "ipython3",
   "version": "3.11.6"
  }
 },
 "nbformat": 4,
 "nbformat_minor": 5
}
